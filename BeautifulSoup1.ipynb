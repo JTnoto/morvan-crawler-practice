{
 "cells": [
  {
   "cell_type": "code",
   "execution_count": 1,
   "metadata": {},
   "outputs": [],
   "source": [
    "from bs4 import BeautifulSoup\n",
    "from urllib.request import urlopen"
   ]
  },
  {
   "cell_type": "code",
   "execution_count": 4,
   "metadata": {},
   "outputs": [
    {
     "name": "stdout",
     "output_type": "stream",
     "text": [
      "<!doctype html><html lang=\"zh-Hant\"><head><script>0===window.location.hostname.indexOf(\"www\")&&(window.location=window.location.href.replace(\"www.\",\"\"))</script><meta charset=\"utf-8\"/><meta name=\"viewport\" content=\"width=device-width,initial-scale=1,shrink-to-fit=no,viewport-fit=cover\"/><title>UrMart 優馬選品</title><link href=\"https://fonts.googleapis.com/css?family=Noto+Sans+TC&display=swap\" rel=\"stylesheet\"/><link href=\"https://fonts.googleapis.com/icon?family=Material+Icons&display=swap\" rel=\"stylesheet\"/><link href=\"https://fonts.googleapis.com/css?family=Nunito:400,800&display=swap\" rel=\"stylesheet\"/><link rel=\"manifest\" href=\"/manifest.json\"/><link rel=\"shortcut icon\" href=\"/favicon.ico\"/><link rel=\"apple-app-site-association file\" href=\"/.well-known/apple-app-site-association\"/><script>!function(e,a,t,n,c,o,g){e.GoogleAnalyticsObject=c,e.ga=e.ga||function(){(e.ga.q=e.ga.q||[]).push(arguments)},e.ga.l=1*new Date,o=a.createElement(t),g=a.getElementsByTagName(t)[0],o.async=1,o.src=\"https://www.google-analytics.com/analytics.js\",g.parentNode.insertBefore(o,g)}(window,document,\"script\",0,\"ga\"),ga(\"create\",\"UA-114027166-1\",\"auto\",{allowLinker:!0})</script><script>!function(e,t,a,n,g){e[n]=e[n]||[],e[n].push({\"gtm.start\":(new Date).getTime(),event:\"gtm.js\"});var m=t.getElementsByTagName(a)[0],r=t.createElement(a);r.async=!0,r.src=\"https://www.googletagmanager.com/gtm.js?id=GTM-ND927CD\",m.parentNode.insertBefore(r,m)}(window,document,\"script\",\"dataLayer\")</script><script async src=\"https://www.googletagmanager.com/gtag/js?id=AW-928368431\"></script><script>function gtag(){dataLayer.push(arguments)}window.dataLayer=window.dataLayer||[],gtag(\"js\",new Date),gtag(\"config\",\"AW-928368431\",{send_page_view:!1})</script><script>!function(e,n,t,o,c,s,a){e.fbq||(c=e.fbq=function(){c.callMethod?c.callMethod.apply(c,arguments):c.queue.push(arguments)},e._fbq||(e._fbq=c),(c.push=c).loaded=!0,c.version=\"2.0\",c.queue=[],(s=n.createElement(t)).async=!0,s.src=\"https://connect.facebook.net/en_US/fbevents.js\",(a=n.getElementsByTagName(t)[0]).parentNode.insertBefore(s,a))}(window,document,\"script\"),fbq(\"init\",\"1955087164817607\")</script><script>!function(t,e,n){t._ltq=t._ltq||[],t._lt=t._lt||function(){t._ltq.push(arguments)};var l=\"https:\"===location.protocol?\"https://d.line-scdn.net\":\"http://d.line-cdn.net\",_=e.createElement(\"script\");_.async=1,_.src=l+\"/n/line_tag/public/release/v1/lt.js\";var c=e.getElementsByTagName(\"script\")[0];c.parentNode.insertBefore(_,c)}(window,document),_lt(\"init\",{customerType:\"lap\",tagId:\"b2ecc292-9c7b-431d-9b40-1036c294e072\"}),_lt(\"send\",\"pv\",[\"b2ecc292-9c7b-431d-9b40-1036c294e072\"])</script><script>// load Branch\n",
      "      (function(b, r, a, n, c, h, _, s, d, k) {\n",
      "        if (!b[n] || !b[n]._q) {\n",
      "          for (; s < _.length; ) c(h, _[s++]);\n",
      "          d = r.createElement(a);\n",
      "          d.async = 1;\n",
      "          d.src = \"https://cdn.branch.io/branch-latest.min.js\";\n",
      "          k = r.getElementsByTagName(a)[0];\n",
      "          k.parentNode.insertBefore(d, k);\n",
      "          b[n] = h;\n",
      "        }\n",
      "      })(\n",
      "        window,\n",
      "        document,\n",
      "        \"script\",\n",
      "        \"branch\",\n",
      "        function(b, r) {\n",
      "          b[r] = function() {\n",
      "            b._q.push([r, arguments]);\n",
      "          };\n",
      "        },\n",
      "        {_q: [], _v: 1},\n",
      "        \"addListener applyCode autoAppIndex banner closeBanner closeJourney creditHistory credits data deepview deepviewCta first getCode init link logout redeem referrals removeListener sendSMS setBranchViewData setIdentity track validateCode trackCommerceEvent logEvent disableTracking\".split(\n",
      "          \" \",\n",
      "        ),\n",
      "        0,\n",
      "      );\n",
      "      // init Branch\n",
      "      branch.init(\"key_live_ffJyHuJv9M0vYmkU24ASIgdcADap0QW3\");</script><script>var _iaq=_iaq||[];!function(){var t=document.createElement(\"script\");t.type=\"text/javascript\",t.async=!0,t.src=(\"https:\"==document.location.protocol?\"https://\":\"http://\")+\"js.iterable.com/analytics.js\";var e=document.getElementsByTagName(\"script\")[0];e.parentNode.insertBefore(t,e)}()</script><link href=\"/static/css/main.09a4c6c9.chunk.css\" rel=\"stylesheet\"></head><body><noscript>您必須打開瀏覽器的javaript才能瀏覽此網站</noscript><main id=\"root\" class=\"ur-main-content\"></main><div id=\"dialog-root\"></div><div id=\"modal-root\"></div><noscript><iframe src=\"https://www.googletagmanager.com/ns.html?id=GTM-ND927CD\" height=\"0\" width=\"0\" style=\"display:none;visibility:hidden\"></iframe></noscript><noscript><img height=\"1\" width=\"1\" style=\"display:none\" src=\"https://www.facebook.com/tr?id=1955087164817607&ev=PageView&noscript=1\"/></noscript><script>!function(u){function e(e){for(var t,r,n=e[0],o=e[1],a=e[2],c=0,i=[];c<n.length;c++)r=n[c],g[r]&&i.push(g[r][0]),g[r]=0;for(t in o)Object.prototype.hasOwnProperty.call(o,t)&&(u[t]=o[t]);for(l&&l(e);i.length;)i.shift()();return d.push.apply(d,a||[]),f()}function f(){for(var e,t=0;t<d.length;t++){for(var r=d[t],n=!0,o=1;o<r.length;o++){var a=r[o];0!==g[a]&&(n=!1)}n&&(d.splice(t--,1),e=s(s.s=r[0]))}return e}var r={},i={28:0},g={28:0},d=[];function s(e){if(r[e])return r[e].exports;var t=r[e]={i:e,l:!1,exports:{}};return u[e].call(t.exports,t,t.exports,s),t.l=!0,t.exports}s.e=function(d){var e=[];i[d]?e.push(i[d]):0!==i[d]&&{17:1,19:1}[d]&&e.push(i[d]=new Promise(function(e,n){for(var t=\"static/css/\"+({6:\"customer\",7:\"CouponPage-CouponBindingPage\",8:\"CouponPage-CouponPromotionPage\",9:\"checkout\",10:\"product\",11:\"productlist\",12:\"home\",13:\"cart\",14:\"wishlist\",15:\"category\",16:\"MarketingPage-MarketingPage\",17:\"MarketingPage-MarketingPage2\",18:\"MarketingPage-SnoopyPage\",19:\"MarketingPage-NutrendPromotion\",20:\"search\",21:\"lineBinding\",22:\"Review-ReviewPage\",23:\"subvendor\"}[d]||d)+\".\"+{2:\"31d6cfe0\",3:\"31d6cfe0\",4:\"31d6cfe0\",6:\"31d6cfe0\",7:\"31d6cfe0\",8:\"31d6cfe0\",9:\"31d6cfe0\",10:\"31d6cfe0\",11:\"31d6cfe0\",12:\"31d6cfe0\",13:\"31d6cfe0\",14:\"31d6cfe0\",15:\"31d6cfe0\",16:\"31d6cfe0\",17:\"cedf3c98\",18:\"31d6cfe0\",19:\"cedf3c98\",20:\"31d6cfe0\",21:\"31d6cfe0\",22:\"31d6cfe0\",23:\"31d6cfe0\",24:\"31d6cfe0\",25:\"31d6cfe0\",26:\"31d6cfe0\",27:\"31d6cfe0\"}[d]+\".chunk.css\",o=s.p+t,r=document.getElementsByTagName(\"link\"),a=0;a<r.length;a++){var c=(u=r[a]).getAttribute(\"data-href\")||u.getAttribute(\"href\");if(\"stylesheet\"===u.rel&&(c===t||c===o))return e()}var i=document.getElementsByTagName(\"style\");for(a=0;a<i.length;a++){var u;if((c=(u=i[a]).getAttribute(\"data-href\"))===t||c===o)return e()}var f=document.createElement(\"link\");f.rel=\"stylesheet\",f.type=\"text/css\",f.onload=e,f.onerror=function(e){var t=e&&e.target&&e.target.src||o,r=new Error(\"Loading CSS chunk \"+d+\" failed.\\n(\"+t+\")\");r.request=t,n(r)},f.href=o,document.getElementsByTagName(\"head\")[0].appendChild(f)}).then(function(){i[d]=0}));var r=g[d];if(0!==r)if(r)e.push(r[2]);else{var t=new Promise(function(e,t){r=g[d]=[e,t]});e.push(r[2]=t);var n,o=document.getElementsByTagName(\"head\")[0],a=document.createElement(\"script\");a.charset=\"utf-8\",a.timeout=120,s.nc&&a.setAttribute(\"nonce\",s.nc),a.src=s.p+\"static/js/\"+({6:\"customer\",7:\"CouponPage-CouponBindingPage\",8:\"CouponPage-CouponPromotionPage\",9:\"checkout\",10:\"product\",11:\"productlist\",12:\"home\",13:\"cart\",14:\"wishlist\",15:\"category\",16:\"MarketingPage-MarketingPage\",17:\"MarketingPage-MarketingPage2\",18:\"MarketingPage-SnoopyPage\",19:\"MarketingPage-NutrendPromotion\",20:\"search\",21:\"lineBinding\",22:\"Review-ReviewPage\",23:\"subvendor\"}[d]||d)+\".\"+{2:\"67fcf866\",3:\"46d60c4e\",4:\"01ecb292\",6:\"10d06bbc\",7:\"7d3d9ca5\",8:\"359f0640\",9:\"b9d170d1\",10:\"92be0ee0\",11:\"2aa7de72\",12:\"7213c25f\",13:\"339b92cb\",14:\"019a820a\",15:\"f5ff77a5\",16:\"2eff2f2f\",17:\"9350274a\",18:\"28e34f99\",19:\"73ca5b68\",20:\"1b2307d8\",21:\"058a24e4\",22:\"7ba02cc5\",23:\"124d7b66\",24:\"3c5d4fe7\",25:\"66884c64\",26:\"04621e02\",27:\"f4e2d767\"}[d]+\".chunk.js\",n=function(e){a.onerror=a.onload=null,clearTimeout(c);var t=g[d];if(0!==t){if(t){var r=e&&(\"load\"===e.type?\"missing\":e.type),n=e&&e.target&&e.target.src,o=new Error(\"Loading chunk \"+d+\" failed.\\n(\"+r+\": \"+n+\")\");o.type=r,o.request=n,t[1](o)}g[d]=void 0}};var c=setTimeout(function(){n({type:\"timeout\",target:a})},12e4);a.onerror=a.onload=n,o.appendChild(a)}return Promise.all(e)},s.m=u,s.c=r,s.d=function(e,t,r){s.o(e,t)||Object.defineProperty(e,t,{enumerable:!0,get:r})},s.r=function(e){\"undefined\"!=typeof Symbol&&Symbol.toStringTag&&Object.defineProperty(e,Symbol.toStringTag,{value:\"Module\"}),Object.defineProperty(e,\"__esModule\",{value:!0})},s.t=function(t,e){if(1&e&&(t=s(t)),8&e)return t;if(4&e&&\"object\"==typeof t&&t&&t.__esModule)return t;var r=Object.create(null);if(s.r(r),Object.defineProperty(r,\"default\",{enumerable:!0,value:t}),2&e&&\"string\"!=typeof t)for(var n in t)s.d(r,n,function(e){return t[e]}.bind(null,n));return r},s.n=function(e){var t=e&&e.__esModule?function(){return e.default}:function(){return e};return s.d(t,\"a\",t),t},s.o=function(e,t){return Object.prototype.hasOwnProperty.call(e,t)},s.p=\"/\",s.oe=function(e){throw console.error(e),e};var t=window.webpackJsonp=window.webpackJsonp||[],n=t.push.bind(t);t.push=e,t=t.slice();for(var o=0;o<t.length;o++)e(t[o]);var l=n;f()}([])</script><script src=\"/static/js/vendor.96bc57c4.chunk.js\"></script><script src=\"/static/js/core.64c78c05.chunk.js\"></script><script src=\"/static/js/main.ec97e722.chunk.js\"></script></body></html><!doctype html>\n"
     ]
    }
   ],
   "source": [
    "html = urlopen(\"https://www.proteinshop.tw/\").read().decode('utf-8')\n",
    "print(html)"
   ]
  },
  {
   "cell_type": "markdown",
   "metadata": {},
   "source": [
    "用beautifulsoup的話，要先把html吃掉"
   ]
  },
  {
   "cell_type": "code",
   "execution_count": 10,
   "metadata": {},
   "outputs": [
    {
     "name": "stdout",
     "output_type": "stream",
     "text": [
      "<title>UrMart 優馬選品</title>\n",
      "None\n",
      "None\n",
      "None\n",
      "<link href=\"https://fonts.googleapis.com/css?family=Noto+Sans+TC&amp;display=swap\" rel=\"stylesheet\"/>\n"
     ]
    }
   ],
   "source": [
    "soup = BeautifulSoup(html, features ='lxml' )\n",
    "#吃掉XD\n",
    "\n",
    "print(soup.title)\n",
    "print(soup.p)\n",
    "print(soup.h1)\n",
    "print(soup.header)\n",
    "print(soup.link)"
   ]
  },
  {
   "cell_type": "code",
   "execution_count": 8,
   "metadata": {},
   "outputs": [
    {
     "name": "stdout",
     "output_type": "stream",
     "text": [
      "[]\n"
     ]
    }
   ],
   "source": [
    "all_href = soup.find_all('a')\n",
    "#返回a tag所有連結 <a href\n",
    "\n",
    "print(all_href)"
   ]
  },
  {
   "cell_type": "code",
   "execution_count": null,
   "metadata": {},
   "outputs": [],
   "source": []
  }
 ],
 "metadata": {
  "kernelspec": {
   "display_name": "Python 3",
   "language": "python",
   "name": "python3"
  },
  "language_info": {
   "codemirror_mode": {
    "name": "ipython",
    "version": 3
   },
   "file_extension": ".py",
   "mimetype": "text/x-python",
   "name": "python",
   "nbconvert_exporter": "python",
   "pygments_lexer": "ipython3",
   "version": "3.8.3"
  }
 },
 "nbformat": 4,
 "nbformat_minor": 4
}
